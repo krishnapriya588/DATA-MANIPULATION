{
 "cells": [
  {
   "cell_type": "markdown",
   "id": "b7f9f7f9",
   "metadata": {
    "papermill": {
     "duration": 0.00956,
     "end_time": "2024-01-05T10:52:08.138812",
     "exception": false,
     "start_time": "2024-01-05T10:52:08.129252",
     "status": "completed"
    },
    "tags": []
   },
   "source": [
    "**This notebook is an exercise in the [Pandas](https://www.kaggle.com/learn/pandas) course.  You can reference the tutorial at [this link](https://www.kaggle.com/residentmario/summary-functions-and-maps).**\n",
    "\n",
    "---\n"
   ]
  },
  {
   "cell_type": "markdown",
   "id": "58e7bfdd",
   "metadata": {
    "papermill": {
     "duration": 0.008786,
     "end_time": "2024-01-05T10:52:08.156194",
     "exception": false,
     "start_time": "2024-01-05T10:52:08.147408",
     "status": "completed"
    },
    "tags": []
   },
   "source": [
    "# Introduction\n",
    "\n",
    "Now you are ready to get a deeper understanding of your data.\n",
    "\n",
    "Run the following cell to load your data and some utility functions (including code to check your answers)."
   ]
  },
  {
   "cell_type": "code",
   "execution_count": 1,
   "id": "cfb8c81b",
   "metadata": {
    "execution": {
     "iopub.execute_input": "2024-01-05T10:52:08.176821Z",
     "iopub.status.busy": "2024-01-05T10:52:08.176113Z",
     "iopub.status.idle": "2024-01-05T10:52:17.084709Z",
     "shell.execute_reply": "2024-01-05T10:52:17.083589Z"
    },
    "papermill": {
     "duration": 8.92237,
     "end_time": "2024-01-05T10:52:17.087625",
     "exception": false,
     "start_time": "2024-01-05T10:52:08.165255",
     "status": "completed"
    },
    "tags": []
   },
   "outputs": [
    {
     "name": "stdout",
     "output_type": "stream",
     "text": [
      "Setup complete.\n"
     ]
    },
    {
     "data": {
      "text/html": [
       "<div>\n",
       "<style scoped>\n",
       "    .dataframe tbody tr th:only-of-type {\n",
       "        vertical-align: middle;\n",
       "    }\n",
       "\n",
       "    .dataframe tbody tr th {\n",
       "        vertical-align: top;\n",
       "    }\n",
       "\n",
       "    .dataframe thead th {\n",
       "        text-align: right;\n",
       "    }\n",
       "</style>\n",
       "<table border=\"1\" class=\"dataframe\">\n",
       "  <thead>\n",
       "    <tr style=\"text-align: right;\">\n",
       "      <th></th>\n",
       "      <th>country</th>\n",
       "      <th>description</th>\n",
       "      <th>designation</th>\n",
       "      <th>points</th>\n",
       "      <th>price</th>\n",
       "      <th>province</th>\n",
       "      <th>region_1</th>\n",
       "      <th>region_2</th>\n",
       "      <th>taster_name</th>\n",
       "      <th>taster_twitter_handle</th>\n",
       "      <th>title</th>\n",
       "      <th>variety</th>\n",
       "      <th>winery</th>\n",
       "    </tr>\n",
       "  </thead>\n",
       "  <tbody>\n",
       "    <tr>\n",
       "      <th>0</th>\n",
       "      <td>Italy</td>\n",
       "      <td>Aromas include tropical fruit, broom, brimston...</td>\n",
       "      <td>Vulkà Bianco</td>\n",
       "      <td>87</td>\n",
       "      <td>NaN</td>\n",
       "      <td>Sicily &amp; Sardinia</td>\n",
       "      <td>Etna</td>\n",
       "      <td>NaN</td>\n",
       "      <td>Kerin O’Keefe</td>\n",
       "      <td>@kerinokeefe</td>\n",
       "      <td>Nicosia 2013 Vulkà Bianco  (Etna)</td>\n",
       "      <td>White Blend</td>\n",
       "      <td>Nicosia</td>\n",
       "    </tr>\n",
       "    <tr>\n",
       "      <th>1</th>\n",
       "      <td>Portugal</td>\n",
       "      <td>This is ripe and fruity, a wine that is smooth...</td>\n",
       "      <td>Avidagos</td>\n",
       "      <td>87</td>\n",
       "      <td>15.0</td>\n",
       "      <td>Douro</td>\n",
       "      <td>NaN</td>\n",
       "      <td>NaN</td>\n",
       "      <td>Roger Voss</td>\n",
       "      <td>@vossroger</td>\n",
       "      <td>Quinta dos Avidagos 2011 Avidagos Red (Douro)</td>\n",
       "      <td>Portuguese Red</td>\n",
       "      <td>Quinta dos Avidagos</td>\n",
       "    </tr>\n",
       "    <tr>\n",
       "      <th>2</th>\n",
       "      <td>US</td>\n",
       "      <td>Tart and snappy, the flavors of lime flesh and...</td>\n",
       "      <td>NaN</td>\n",
       "      <td>87</td>\n",
       "      <td>14.0</td>\n",
       "      <td>Oregon</td>\n",
       "      <td>Willamette Valley</td>\n",
       "      <td>Willamette Valley</td>\n",
       "      <td>Paul Gregutt</td>\n",
       "      <td>@paulgwine</td>\n",
       "      <td>Rainstorm 2013 Pinot Gris (Willamette Valley)</td>\n",
       "      <td>Pinot Gris</td>\n",
       "      <td>Rainstorm</td>\n",
       "    </tr>\n",
       "    <tr>\n",
       "      <th>3</th>\n",
       "      <td>US</td>\n",
       "      <td>Pineapple rind, lemon pith and orange blossom ...</td>\n",
       "      <td>Reserve Late Harvest</td>\n",
       "      <td>87</td>\n",
       "      <td>13.0</td>\n",
       "      <td>Michigan</td>\n",
       "      <td>Lake Michigan Shore</td>\n",
       "      <td>NaN</td>\n",
       "      <td>Alexander Peartree</td>\n",
       "      <td>NaN</td>\n",
       "      <td>St. Julian 2013 Reserve Late Harvest Riesling ...</td>\n",
       "      <td>Riesling</td>\n",
       "      <td>St. Julian</td>\n",
       "    </tr>\n",
       "    <tr>\n",
       "      <th>4</th>\n",
       "      <td>US</td>\n",
       "      <td>Much like the regular bottling from 2012, this...</td>\n",
       "      <td>Vintner's Reserve Wild Child Block</td>\n",
       "      <td>87</td>\n",
       "      <td>65.0</td>\n",
       "      <td>Oregon</td>\n",
       "      <td>Willamette Valley</td>\n",
       "      <td>Willamette Valley</td>\n",
       "      <td>Paul Gregutt</td>\n",
       "      <td>@paulgwine</td>\n",
       "      <td>Sweet Cheeks 2012 Vintner's Reserve Wild Child...</td>\n",
       "      <td>Pinot Noir</td>\n",
       "      <td>Sweet Cheeks</td>\n",
       "    </tr>\n",
       "  </tbody>\n",
       "</table>\n",
       "</div>"
      ],
      "text/plain": [
       "    country                                        description  \\\n",
       "0     Italy  Aromas include tropical fruit, broom, brimston...   \n",
       "1  Portugal  This is ripe and fruity, a wine that is smooth...   \n",
       "2        US  Tart and snappy, the flavors of lime flesh and...   \n",
       "3        US  Pineapple rind, lemon pith and orange blossom ...   \n",
       "4        US  Much like the regular bottling from 2012, this...   \n",
       "\n",
       "                          designation  points  price           province  \\\n",
       "0                        Vulkà Bianco      87    NaN  Sicily & Sardinia   \n",
       "1                            Avidagos      87   15.0              Douro   \n",
       "2                                 NaN      87   14.0             Oregon   \n",
       "3                Reserve Late Harvest      87   13.0           Michigan   \n",
       "4  Vintner's Reserve Wild Child Block      87   65.0             Oregon   \n",
       "\n",
       "              region_1           region_2         taster_name  \\\n",
       "0                 Etna                NaN       Kerin O’Keefe   \n",
       "1                  NaN                NaN          Roger Voss   \n",
       "2    Willamette Valley  Willamette Valley        Paul Gregutt   \n",
       "3  Lake Michigan Shore                NaN  Alexander Peartree   \n",
       "4    Willamette Valley  Willamette Valley        Paul Gregutt   \n",
       "\n",
       "  taster_twitter_handle                                              title  \\\n",
       "0          @kerinokeefe                  Nicosia 2013 Vulkà Bianco  (Etna)   \n",
       "1            @vossroger      Quinta dos Avidagos 2011 Avidagos Red (Douro)   \n",
       "2           @paulgwine       Rainstorm 2013 Pinot Gris (Willamette Valley)   \n",
       "3                   NaN  St. Julian 2013 Reserve Late Harvest Riesling ...   \n",
       "4           @paulgwine   Sweet Cheeks 2012 Vintner's Reserve Wild Child...   \n",
       "\n",
       "          variety               winery  \n",
       "0     White Blend              Nicosia  \n",
       "1  Portuguese Red  Quinta dos Avidagos  \n",
       "2      Pinot Gris            Rainstorm  \n",
       "3        Riesling           St. Julian  \n",
       "4      Pinot Noir         Sweet Cheeks  "
      ]
     },
     "execution_count": 1,
     "metadata": {},
     "output_type": "execute_result"
    }
   ],
   "source": [
    "import pandas as pd\n",
    "pd.set_option(\"display.max_rows\", 5)\n",
    "reviews = pd.read_csv(\"../input/wine-reviews/winemag-data-130k-v2.csv\", index_col=0)\n",
    "\n",
    "from learntools.core import binder; binder.bind(globals())\n",
    "from learntools.pandas.summary_functions_and_maps import *\n",
    "print(\"Setup complete.\")\n",
    "\n",
    "reviews.head()"
   ]
  },
  {
   "cell_type": "markdown",
   "id": "c2f4a375",
   "metadata": {
    "papermill": {
     "duration": 0.009051,
     "end_time": "2024-01-05T10:52:17.106008",
     "exception": false,
     "start_time": "2024-01-05T10:52:17.096957",
     "status": "completed"
    },
    "tags": []
   },
   "source": [
    "# Exercises"
   ]
  },
  {
   "cell_type": "markdown",
   "id": "ab433e9d",
   "metadata": {
    "papermill": {
     "duration": 0.008666,
     "end_time": "2024-01-05T10:52:17.123736",
     "exception": false,
     "start_time": "2024-01-05T10:52:17.115070",
     "status": "completed"
    },
    "tags": []
   },
   "source": [
    "## 1.\n",
    "\n",
    "What is the median of the `points` column in the `reviews` DataFrame?"
   ]
  },
  {
   "cell_type": "code",
   "execution_count": 2,
   "id": "54c871a6",
   "metadata": {
    "execution": {
     "iopub.execute_input": "2024-01-05T10:52:17.143576Z",
     "iopub.status.busy": "2024-01-05T10:52:17.143146Z",
     "iopub.status.idle": "2024-01-05T10:52:17.153874Z",
     "shell.execute_reply": "2024-01-05T10:52:17.152799Z"
    },
    "papermill": {
     "duration": 0.023642,
     "end_time": "2024-01-05T10:52:17.156334",
     "exception": false,
     "start_time": "2024-01-05T10:52:17.132692",
     "status": "completed"
    },
    "tags": []
   },
   "outputs": [
    {
     "data": {
      "application/javascript": [
       "parent.postMessage({\"jupyterEvent\": \"custom.exercise_interaction\", \"data\": {\"outcomeType\": 1, \"valueTowardsCompletion\": 0.14285714285714285, \"interactionType\": 1, \"questionType\": 1, \"questionId\": \"1_MedianPoints\", \"learnToolsVersion\": \"0.3.4\", \"failureMessage\": \"\", \"exceptionClass\": \"\", \"trace\": \"\"}}, \"*\")"
      ],
      "text/plain": [
       "<IPython.core.display.Javascript object>"
      ]
     },
     "metadata": {},
     "output_type": "display_data"
    },
    {
     "data": {
      "text/markdown": [
       "<span style=\"color:#33cc33\">Correct</span>"
      ],
      "text/plain": [
       "Correct"
      ]
     },
     "metadata": {},
     "output_type": "display_data"
    }
   ],
   "source": [
    "median_points = reviews.points.median()\n",
    "\n",
    "# Check your answer\n",
    "q1.check()"
   ]
  },
  {
   "cell_type": "code",
   "execution_count": 3,
   "id": "38ff4eda",
   "metadata": {
    "execution": {
     "iopub.execute_input": "2024-01-05T10:52:17.177247Z",
     "iopub.status.busy": "2024-01-05T10:52:17.176865Z",
     "iopub.status.idle": "2024-01-05T10:52:17.181134Z",
     "shell.execute_reply": "2024-01-05T10:52:17.179949Z"
    },
    "papermill": {
     "duration": 0.017591,
     "end_time": "2024-01-05T10:52:17.183440",
     "exception": false,
     "start_time": "2024-01-05T10:52:17.165849",
     "status": "completed"
    },
    "tags": []
   },
   "outputs": [],
   "source": [
    "#q1.hint()\n",
    "#q1.solution()"
   ]
  },
  {
   "cell_type": "markdown",
   "id": "9e4cd902",
   "metadata": {
    "papermill": {
     "duration": 0.009377,
     "end_time": "2024-01-05T10:52:17.202147",
     "exception": false,
     "start_time": "2024-01-05T10:52:17.192770",
     "status": "completed"
    },
    "tags": []
   },
   "source": [
    "## 2. \n",
    "What countries are represented in the dataset? (Your answer should not include any duplicates.)"
   ]
  },
  {
   "cell_type": "code",
   "execution_count": 4,
   "id": "bdd64afb",
   "metadata": {
    "execution": {
     "iopub.execute_input": "2024-01-05T10:52:17.222850Z",
     "iopub.status.busy": "2024-01-05T10:52:17.222440Z",
     "iopub.status.idle": "2024-01-05T10:52:17.245278Z",
     "shell.execute_reply": "2024-01-05T10:52:17.244167Z"
    },
    "papermill": {
     "duration": 0.036216,
     "end_time": "2024-01-05T10:52:17.247706",
     "exception": false,
     "start_time": "2024-01-05T10:52:17.211490",
     "status": "completed"
    },
    "tags": []
   },
   "outputs": [
    {
     "data": {
      "application/javascript": [
       "parent.postMessage({\"jupyterEvent\": \"custom.exercise_interaction\", \"data\": {\"outcomeType\": 1, \"valueTowardsCompletion\": 0.14285714285714285, \"interactionType\": 1, \"questionType\": 2, \"questionId\": \"2_UniqueCountries\", \"learnToolsVersion\": \"0.3.4\", \"failureMessage\": \"\", \"exceptionClass\": \"\", \"trace\": \"\"}}, \"*\")"
      ],
      "text/plain": [
       "<IPython.core.display.Javascript object>"
      ]
     },
     "metadata": {},
     "output_type": "display_data"
    },
    {
     "data": {
      "text/markdown": [
       "<span style=\"color:#33cc33\">Correct</span>"
      ],
      "text/plain": [
       "Correct"
      ]
     },
     "metadata": {},
     "output_type": "display_data"
    }
   ],
   "source": [
    "countries = reviews.country.unique()\n",
    "# Check your answer\n",
    "q2.check()"
   ]
  },
  {
   "cell_type": "code",
   "execution_count": 5,
   "id": "6c18ca70",
   "metadata": {
    "execution": {
     "iopub.execute_input": "2024-01-05T10:52:17.269106Z",
     "iopub.status.busy": "2024-01-05T10:52:17.268714Z",
     "iopub.status.idle": "2024-01-05T10:52:17.273304Z",
     "shell.execute_reply": "2024-01-05T10:52:17.272192Z"
    },
    "papermill": {
     "duration": 0.018329,
     "end_time": "2024-01-05T10:52:17.275740",
     "exception": false,
     "start_time": "2024-01-05T10:52:17.257411",
     "status": "completed"
    },
    "tags": []
   },
   "outputs": [],
   "source": [
    "#q2.hint()\n",
    "#q2.solution()"
   ]
  },
  {
   "cell_type": "markdown",
   "id": "68806009",
   "metadata": {
    "papermill": {
     "duration": 0.009521,
     "end_time": "2024-01-05T10:52:17.295433",
     "exception": false,
     "start_time": "2024-01-05T10:52:17.285912",
     "status": "completed"
    },
    "tags": []
   },
   "source": [
    "## 3.\n",
    "How often does each country appear in the dataset? Create a Series `reviews_per_country` mapping countries to the count of reviews of wines from that country."
   ]
  },
  {
   "cell_type": "code",
   "execution_count": 6,
   "id": "b91c3a2a",
   "metadata": {
    "execution": {
     "iopub.execute_input": "2024-01-05T10:52:17.317928Z",
     "iopub.status.busy": "2024-01-05T10:52:17.317480Z",
     "iopub.status.idle": "2024-01-05T10:52:17.348175Z",
     "shell.execute_reply": "2024-01-05T10:52:17.347065Z"
    },
    "papermill": {
     "duration": 0.044577,
     "end_time": "2024-01-05T10:52:17.350641",
     "exception": false,
     "start_time": "2024-01-05T10:52:17.306064",
     "status": "completed"
    },
    "tags": []
   },
   "outputs": [
    {
     "data": {
      "application/javascript": [
       "parent.postMessage({\"jupyterEvent\": \"custom.exercise_interaction\", \"data\": {\"outcomeType\": 1, \"valueTowardsCompletion\": 0.14285714285714285, \"interactionType\": 1, \"questionType\": 1, \"questionId\": \"3_ReviewsPerCountry\", \"learnToolsVersion\": \"0.3.4\", \"failureMessage\": \"\", \"exceptionClass\": \"\", \"trace\": \"\"}}, \"*\")"
      ],
      "text/plain": [
       "<IPython.core.display.Javascript object>"
      ]
     },
     "metadata": {},
     "output_type": "display_data"
    },
    {
     "data": {
      "text/markdown": [
       "<span style=\"color:#33cc33\">Correct</span>"
      ],
      "text/plain": [
       "Correct"
      ]
     },
     "metadata": {},
     "output_type": "display_data"
    }
   ],
   "source": [
    "reviews_per_country = reviews.country.value_counts()\n",
    "\n",
    "# Check your answer\n",
    "q3.check()"
   ]
  },
  {
   "cell_type": "code",
   "execution_count": 7,
   "id": "92cb70f2",
   "metadata": {
    "execution": {
     "iopub.execute_input": "2024-01-05T10:52:17.373074Z",
     "iopub.status.busy": "2024-01-05T10:52:17.372667Z",
     "iopub.status.idle": "2024-01-05T10:52:17.377286Z",
     "shell.execute_reply": "2024-01-05T10:52:17.376037Z"
    },
    "papermill": {
     "duration": 0.019101,
     "end_time": "2024-01-05T10:52:17.380007",
     "exception": false,
     "start_time": "2024-01-05T10:52:17.360906",
     "status": "completed"
    },
    "tags": []
   },
   "outputs": [],
   "source": [
    "#q3.hint()\n",
    "#q3.solution()"
   ]
  },
  {
   "cell_type": "markdown",
   "id": "546d812e",
   "metadata": {
    "papermill": {
     "duration": 0.010094,
     "end_time": "2024-01-05T10:52:17.400194",
     "exception": false,
     "start_time": "2024-01-05T10:52:17.390100",
     "status": "completed"
    },
    "tags": []
   },
   "source": [
    "## 4.\n",
    "Create variable `centered_price` containing a version of the `price` column with the mean price subtracted.\n",
    "\n",
    "(Note: this 'centering' transformation is a common preprocessing step before applying various machine learning algorithms.) "
   ]
  },
  {
   "cell_type": "code",
   "execution_count": 8,
   "id": "ca59e3e9",
   "metadata": {
    "execution": {
     "iopub.execute_input": "2024-01-05T10:52:17.422788Z",
     "iopub.status.busy": "2024-01-05T10:52:17.421987Z",
     "iopub.status.idle": "2024-01-05T10:52:17.433699Z",
     "shell.execute_reply": "2024-01-05T10:52:17.432615Z"
    },
    "papermill": {
     "duration": 0.025737,
     "end_time": "2024-01-05T10:52:17.436012",
     "exception": false,
     "start_time": "2024-01-05T10:52:17.410275",
     "status": "completed"
    },
    "tags": []
   },
   "outputs": [
    {
     "data": {
      "application/javascript": [
       "parent.postMessage({\"jupyterEvent\": \"custom.exercise_interaction\", \"data\": {\"outcomeType\": 1, \"valueTowardsCompletion\": 0.14285714285714285, \"interactionType\": 1, \"questionType\": 1, \"questionId\": \"4_CenteredPrice\", \"learnToolsVersion\": \"0.3.4\", \"failureMessage\": \"\", \"exceptionClass\": \"\", \"trace\": \"\"}}, \"*\")"
      ],
      "text/plain": [
       "<IPython.core.display.Javascript object>"
      ]
     },
     "metadata": {},
     "output_type": "display_data"
    },
    {
     "data": {
      "text/markdown": [
       "<span style=\"color:#33cc33\">Correct</span>"
      ],
      "text/plain": [
       "Correct"
      ]
     },
     "metadata": {},
     "output_type": "display_data"
    }
   ],
   "source": [
    "centered_price = reviews.price - reviews.price.mean()\n",
    "\n",
    "# Check your answer\n",
    "q4.check()"
   ]
  },
  {
   "cell_type": "code",
   "execution_count": 9,
   "id": "07033e92",
   "metadata": {
    "execution": {
     "iopub.execute_input": "2024-01-05T10:52:17.459277Z",
     "iopub.status.busy": "2024-01-05T10:52:17.458367Z",
     "iopub.status.idle": "2024-01-05T10:52:17.463122Z",
     "shell.execute_reply": "2024-01-05T10:52:17.462285Z"
    },
    "papermill": {
     "duration": 0.019091,
     "end_time": "2024-01-05T10:52:17.465508",
     "exception": false,
     "start_time": "2024-01-05T10:52:17.446417",
     "status": "completed"
    },
    "tags": []
   },
   "outputs": [],
   "source": [
    "#q4.hint()\n",
    "#q4.solution()"
   ]
  },
  {
   "cell_type": "markdown",
   "id": "41a28f02",
   "metadata": {
    "papermill": {
     "duration": 0.010049,
     "end_time": "2024-01-05T10:52:17.486083",
     "exception": false,
     "start_time": "2024-01-05T10:52:17.476034",
     "status": "completed"
    },
    "tags": []
   },
   "source": [
    "## 5.\n",
    "I'm an economical wine buyer. Which wine is the \"best bargain\"? Create a variable `bargain_wine` with the title of the wine with the highest points-to-price ratio in the dataset."
   ]
  },
  {
   "cell_type": "code",
   "execution_count": 10,
   "id": "6950f732",
   "metadata": {
    "execution": {
     "iopub.execute_input": "2024-01-05T10:52:17.509241Z",
     "iopub.status.busy": "2024-01-05T10:52:17.508314Z",
     "iopub.status.idle": "2024-01-05T10:52:17.524783Z",
     "shell.execute_reply": "2024-01-05T10:52:17.523612Z"
    },
    "papermill": {
     "duration": 0.031326,
     "end_time": "2024-01-05T10:52:17.527654",
     "exception": false,
     "start_time": "2024-01-05T10:52:17.496328",
     "status": "completed"
    },
    "tags": []
   },
   "outputs": [
    {
     "data": {
      "application/javascript": [
       "parent.postMessage({\"jupyterEvent\": \"custom.exercise_interaction\", \"data\": {\"outcomeType\": 1, \"valueTowardsCompletion\": 0.14285714285714285, \"interactionType\": 1, \"questionType\": 2, \"questionId\": \"5_BargainWine\", \"learnToolsVersion\": \"0.3.4\", \"failureMessage\": \"\", \"exceptionClass\": \"\", \"trace\": \"\"}}, \"*\")"
      ],
      "text/plain": [
       "<IPython.core.display.Javascript object>"
      ]
     },
     "metadata": {},
     "output_type": "display_data"
    },
    {
     "data": {
      "text/markdown": [
       "<span style=\"color:#33cc33\">Correct</span>"
      ],
      "text/plain": [
       "Correct"
      ]
     },
     "metadata": {},
     "output_type": "display_data"
    }
   ],
   "source": [
    "bargain_idx = (reviews.points / reviews.price).idxmax()\n",
    "bargain_wine = reviews.loc[bargain_idx, 'title']\n",
    "\n",
    "# Check your answer\n",
    "q5.check()"
   ]
  },
  {
   "cell_type": "code",
   "execution_count": 11,
   "id": "a61e37d3",
   "metadata": {
    "execution": {
     "iopub.execute_input": "2024-01-05T10:52:17.552081Z",
     "iopub.status.busy": "2024-01-05T10:52:17.551403Z",
     "iopub.status.idle": "2024-01-05T10:52:17.555806Z",
     "shell.execute_reply": "2024-01-05T10:52:17.554850Z"
    },
    "papermill": {
     "duration": 0.019463,
     "end_time": "2024-01-05T10:52:17.558332",
     "exception": false,
     "start_time": "2024-01-05T10:52:17.538869",
     "status": "completed"
    },
    "tags": []
   },
   "outputs": [],
   "source": [
    "#q5.hint()\n",
    "#q5.solution()"
   ]
  },
  {
   "cell_type": "markdown",
   "id": "4f1dfe1d",
   "metadata": {
    "papermill": {
     "duration": 0.010463,
     "end_time": "2024-01-05T10:52:17.579749",
     "exception": false,
     "start_time": "2024-01-05T10:52:17.569286",
     "status": "completed"
    },
    "tags": []
   },
   "source": [
    "## 6.\n",
    "There are only so many words you can use when describing a bottle of wine. Is a wine more likely to be \"tropical\" or \"fruity\"? Create a Series `descriptor_counts` counting how many times each of these two words appears in the `description` column in the dataset. (For simplicity, let's ignore the capitalized versions of these words.)"
   ]
  },
  {
   "cell_type": "code",
   "execution_count": 12,
   "id": "76960228",
   "metadata": {
    "execution": {
     "iopub.execute_input": "2024-01-05T10:52:17.603024Z",
     "iopub.status.busy": "2024-01-05T10:52:17.602623Z",
     "iopub.status.idle": "2024-01-05T10:52:17.773564Z",
     "shell.execute_reply": "2024-01-05T10:52:17.772379Z"
    },
    "papermill": {
     "duration": 0.186486,
     "end_time": "2024-01-05T10:52:17.776814",
     "exception": false,
     "start_time": "2024-01-05T10:52:17.590328",
     "status": "completed"
    },
    "tags": []
   },
   "outputs": [
    {
     "data": {
      "application/javascript": [
       "parent.postMessage({\"jupyterEvent\": \"custom.exercise_interaction\", \"data\": {\"outcomeType\": 1, \"valueTowardsCompletion\": 0.14285714285714285, \"interactionType\": 1, \"questionType\": 1, \"questionId\": \"6_DescriptorCounts\", \"learnToolsVersion\": \"0.3.4\", \"failureMessage\": \"\", \"exceptionClass\": \"\", \"trace\": \"\"}}, \"*\")"
      ],
      "text/plain": [
       "<IPython.core.display.Javascript object>"
      ]
     },
     "metadata": {},
     "output_type": "display_data"
    },
    {
     "data": {
      "text/markdown": [
       "<span style=\"color:#33cc33\">Correct</span>"
      ],
      "text/plain": [
       "Correct"
      ]
     },
     "metadata": {},
     "output_type": "display_data"
    }
   ],
   "source": [
    "n_trop = reviews.description.map(lambda desc: \"tropical\" in desc).sum()\n",
    "n_fruity = reviews.description.map(lambda desc: \"fruity\" in desc).sum()\n",
    "descriptor_counts = pd.Series([n_trop, n_fruity], index=['tropical', 'fruity'])\n",
    "\n",
    "# Check your answer\n",
    "q6.check()"
   ]
  },
  {
   "cell_type": "code",
   "execution_count": 13,
   "id": "8dad1c45",
   "metadata": {
    "execution": {
     "iopub.execute_input": "2024-01-05T10:52:17.802442Z",
     "iopub.status.busy": "2024-01-05T10:52:17.802047Z",
     "iopub.status.idle": "2024-01-05T10:52:17.806872Z",
     "shell.execute_reply": "2024-01-05T10:52:17.805594Z"
    },
    "papermill": {
     "duration": 0.020426,
     "end_time": "2024-01-05T10:52:17.809345",
     "exception": false,
     "start_time": "2024-01-05T10:52:17.788919",
     "status": "completed"
    },
    "tags": []
   },
   "outputs": [],
   "source": [
    "#q6.hint()\n",
    "#q6.solution()"
   ]
  },
  {
   "cell_type": "markdown",
   "id": "227963e4",
   "metadata": {
    "papermill": {
     "duration": 0.010984,
     "end_time": "2024-01-05T10:52:17.831757",
     "exception": false,
     "start_time": "2024-01-05T10:52:17.820773",
     "status": "completed"
    },
    "tags": []
   },
   "source": [
    "## 7.\n",
    "We'd like to host these wine reviews on our website, but a rating system ranging from 80 to 100 points is too hard to understand - we'd like to translate them into simple star ratings. A score of 95 or higher counts as 3 stars, a score of at least 85 but less than 95 is 2 stars. Any other score is 1 star.\n",
    "\n",
    "Also, the Canadian Vintners Association bought a lot of ads on the site, so any wines from Canada should automatically get 3 stars, regardless of points.\n",
    "\n",
    "Create a series `star_ratings` with the number of stars corresponding to each review in the dataset."
   ]
  },
  {
   "cell_type": "code",
   "execution_count": 14,
   "id": "e7fe2fb4",
   "metadata": {
    "execution": {
     "iopub.execute_input": "2024-01-05T10:52:17.855782Z",
     "iopub.status.busy": "2024-01-05T10:52:17.855130Z",
     "iopub.status.idle": "2024-01-05T10:52:22.969375Z",
     "shell.execute_reply": "2024-01-05T10:52:22.968265Z"
    },
    "papermill": {
     "duration": 5.129018,
     "end_time": "2024-01-05T10:52:22.971842",
     "exception": false,
     "start_time": "2024-01-05T10:52:17.842824",
     "status": "completed"
    },
    "tags": []
   },
   "outputs": [
    {
     "data": {
      "application/javascript": [
       "parent.postMessage({\"jupyterEvent\": \"custom.exercise_interaction\", \"data\": {\"outcomeType\": 1, \"valueTowardsCompletion\": 0.14285714285714285, \"interactionType\": 1, \"questionType\": 1, \"questionId\": \"7_StarRatings\", \"learnToolsVersion\": \"0.3.4\", \"failureMessage\": \"\", \"exceptionClass\": \"\", \"trace\": \"\"}}, \"*\")"
      ],
      "text/plain": [
       "<IPython.core.display.Javascript object>"
      ]
     },
     "metadata": {},
     "output_type": "display_data"
    },
    {
     "data": {
      "text/markdown": [
       "<span style=\"color:#33cc33\">Correct</span>"
      ],
      "text/plain": [
       "Correct"
      ]
     },
     "metadata": {},
     "output_type": "display_data"
    }
   ],
   "source": [
    "def stars(row):\n",
    "    if row.country == 'Canada':\n",
    "        return 3\n",
    "    elif row.points >= 95:\n",
    "        return 3\n",
    "    elif row.points >= 85:\n",
    "        return 2\n",
    "    else:\n",
    "        return 1\n",
    "\n",
    "star_ratings = reviews.apply(stars, axis='columns')\n",
    "\n",
    "# Check your answer\n",
    "q7.check()"
   ]
  },
  {
   "cell_type": "code",
   "execution_count": 15,
   "id": "86310058",
   "metadata": {
    "execution": {
     "iopub.execute_input": "2024-01-05T10:52:22.996716Z",
     "iopub.status.busy": "2024-01-05T10:52:22.996271Z",
     "iopub.status.idle": "2024-01-05T10:52:23.000874Z",
     "shell.execute_reply": "2024-01-05T10:52:22.999781Z"
    },
    "papermill": {
     "duration": 0.019678,
     "end_time": "2024-01-05T10:52:23.003163",
     "exception": false,
     "start_time": "2024-01-05T10:52:22.983485",
     "status": "completed"
    },
    "tags": []
   },
   "outputs": [],
   "source": [
    "#q7.hint()\n",
    "#q7.solution()"
   ]
  },
  {
   "cell_type": "markdown",
   "id": "da293f15",
   "metadata": {
    "papermill": {
     "duration": 0.011291,
     "end_time": "2024-01-05T10:52:23.026065",
     "exception": false,
     "start_time": "2024-01-05T10:52:23.014774",
     "status": "completed"
    },
    "tags": []
   },
   "source": [
    "# Keep going\n",
    "Continue to **[grouping and sorting](https://www.kaggle.com/residentmario/grouping-and-sorting)**."
   ]
  },
  {
   "cell_type": "markdown",
   "id": "d83c0d2c",
   "metadata": {
    "papermill": {
     "duration": 0.013779,
     "end_time": "2024-01-05T10:52:23.051979",
     "exception": false,
     "start_time": "2024-01-05T10:52:23.038200",
     "status": "completed"
    },
    "tags": []
   },
   "source": [
    "---\n",
    "\n",
    "\n",
    "\n",
    "\n",
    "*Have questions or comments? Visit the [course discussion forum](https://www.kaggle.com/learn/pandas/discussion) to chat with other learners.*"
   ]
  }
 ],
 "metadata": {
  "kaggle": {
   "accelerator": "none",
   "dataSources": [
    {
     "datasetId": 655,
     "sourceId": 1252,
     "sourceType": "datasetVersion"
    },
    {
     "datasetId": 2321,
     "sourceId": 3919,
     "sourceType": "datasetVersion"
    },
    {
     "datasetId": 2894,
     "sourceId": 4877,
     "sourceType": "datasetVersion"
    },
    {
     "datasetId": 3491,
     "sourceId": 5624,
     "sourceType": "datasetVersion"
    },
    {
     "datasetId": 1442,
     "sourceId": 8172,
     "sourceType": "datasetVersion"
    },
    {
     "datasetId": 9366,
     "sourceId": 13206,
     "sourceType": "datasetVersion"
    },
    {
     "datasetId": 179555,
     "sourceId": 403916,
     "sourceType": "datasetVersion"
    },
    {
     "datasetId": 4549,
     "sourceId": 466349,
     "sourceType": "datasetVersion"
    },
    {
     "datasetId": 2478,
     "sourceId": 1151655,
     "sourceType": "datasetVersion"
    },
    {
     "datasetId": 10128,
     "sourceId": 5438389,
     "sourceType": "datasetVersion"
    }
   ],
   "isGpuEnabled": false,
   "isInternetEnabled": false,
   "language": "python",
   "sourceType": "notebook"
  },
  "kernelspec": {
   "display_name": "Python 3",
   "language": "python",
   "name": "python3"
  },
  "language_info": {
   "codemirror_mode": {
    "name": "ipython",
    "version": 3
   },
   "file_extension": ".py",
   "mimetype": "text/x-python",
   "name": "python",
   "nbconvert_exporter": "python",
   "pygments_lexer": "ipython3",
   "version": "3.10.12"
  },
  "papermill": {
   "default_parameters": {},
   "duration": 19.079635,
   "end_time": "2024-01-05T10:52:23.589926",
   "environment_variables": {},
   "exception": null,
   "input_path": "__notebook__.ipynb",
   "output_path": "__notebook__.ipynb",
   "parameters": {},
   "start_time": "2024-01-05T10:52:04.510291",
   "version": "2.4.0"
  }
 },
 "nbformat": 4,
 "nbformat_minor": 5
}
