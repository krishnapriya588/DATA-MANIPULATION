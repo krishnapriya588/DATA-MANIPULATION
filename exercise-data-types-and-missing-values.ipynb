{
 "cells": [
  {
   "cell_type": "markdown",
   "id": "ec7f567d",
   "metadata": {
    "papermill": {
     "duration": 0.00426,
     "end_time": "2024-01-05T10:56:08.454020",
     "exception": false,
     "start_time": "2024-01-05T10:56:08.449760",
     "status": "completed"
    },
    "tags": []
   },
   "source": [
    "**This notebook is an exercise in the [Pandas](https://www.kaggle.com/learn/pandas) course.  You can reference the tutorial at [this link](https://www.kaggle.com/residentmario/data-types-and-missing-values).**\n",
    "\n",
    "---\n"
   ]
  },
  {
   "cell_type": "markdown",
   "id": "e6a6e474",
   "metadata": {
    "papermill": {
     "duration": 0.003437,
     "end_time": "2024-01-05T10:56:08.461300",
     "exception": false,
     "start_time": "2024-01-05T10:56:08.457863",
     "status": "completed"
    },
    "tags": []
   },
   "source": [
    "# Introduction\n",
    "\n",
    "Run the following cell to load your data and some utility functions."
   ]
  },
  {
   "cell_type": "code",
   "execution_count": 1,
   "id": "400c68b3",
   "metadata": {
    "execution": {
     "iopub.execute_input": "2024-01-05T10:56:08.469943Z",
     "iopub.status.busy": "2024-01-05T10:56:08.469618Z",
     "iopub.status.idle": "2024-01-05T10:56:10.965172Z",
     "shell.execute_reply": "2024-01-05T10:56:10.964084Z"
    },
    "papermill": {
     "duration": 2.502033,
     "end_time": "2024-01-05T10:56:10.966961",
     "exception": false,
     "start_time": "2024-01-05T10:56:08.464928",
     "status": "completed"
    },
    "tags": []
   },
   "outputs": [
    {
     "name": "stdout",
     "output_type": "stream",
     "text": [
      "Setup complete.\n"
     ]
    }
   ],
   "source": [
    "import pandas as pd\n",
    "\n",
    "reviews = pd.read_csv(\"../input/wine-reviews/winemag-data-130k-v2.csv\", index_col=0)\n",
    "\n",
    "from learntools.core import binder; binder.bind(globals())\n",
    "from learntools.pandas.data_types_and_missing_data import *\n",
    "print(\"Setup complete.\")"
   ]
  },
  {
   "cell_type": "markdown",
   "id": "3a9c454c",
   "metadata": {
    "papermill": {
     "duration": 0.0035,
     "end_time": "2024-01-05T10:56:10.974364",
     "exception": false,
     "start_time": "2024-01-05T10:56:10.970864",
     "status": "completed"
    },
    "tags": []
   },
   "source": [
    "# Exercises"
   ]
  },
  {
   "cell_type": "markdown",
   "id": "759e895a",
   "metadata": {
    "papermill": {
     "duration": 0.003462,
     "end_time": "2024-01-05T10:56:10.981455",
     "exception": false,
     "start_time": "2024-01-05T10:56:10.977993",
     "status": "completed"
    },
    "tags": []
   },
   "source": [
    "## 1. \n",
    "What is the data type of the `points` column in the dataset?"
   ]
  },
  {
   "cell_type": "code",
   "execution_count": 2,
   "id": "dcc45b71",
   "metadata": {
    "execution": {
     "iopub.execute_input": "2024-01-05T10:56:10.990008Z",
     "iopub.status.busy": "2024-01-05T10:56:10.989556Z",
     "iopub.status.idle": "2024-01-05T10:56:10.997184Z",
     "shell.execute_reply": "2024-01-05T10:56:10.996435Z"
    },
    "papermill": {
     "duration": 0.013713,
     "end_time": "2024-01-05T10:56:10.998758",
     "exception": false,
     "start_time": "2024-01-05T10:56:10.985045",
     "status": "completed"
    },
    "tags": []
   },
   "outputs": [
    {
     "data": {
      "application/javascript": [
       "parent.postMessage({\"jupyterEvent\": \"custom.exercise_interaction\", \"data\": {\"outcomeType\": 1, \"valueTowardsCompletion\": 0.25, \"interactionType\": 1, \"questionType\": 1, \"questionId\": \"1_PointsDtype\", \"learnToolsVersion\": \"0.3.4\", \"failureMessage\": \"\", \"exceptionClass\": \"\", \"trace\": \"\"}}, \"*\")"
      ],
      "text/plain": [
       "<IPython.core.display.Javascript object>"
      ]
     },
     "metadata": {},
     "output_type": "display_data"
    },
    {
     "data": {
      "text/markdown": [
       "<span style=\"color:#33cc33\">Correct</span>"
      ],
      "text/plain": [
       "Correct"
      ]
     },
     "metadata": {},
     "output_type": "display_data"
    }
   ],
   "source": [
    "# Your code here\n",
    "dtype = reviews.points.dtype\n",
    "\n",
    "# Check your answer\n",
    "q1.check()"
   ]
  },
  {
   "cell_type": "code",
   "execution_count": 3,
   "id": "0306800f",
   "metadata": {
    "execution": {
     "iopub.execute_input": "2024-01-05T10:56:11.007924Z",
     "iopub.status.busy": "2024-01-05T10:56:11.007498Z",
     "iopub.status.idle": "2024-01-05T10:56:11.010567Z",
     "shell.execute_reply": "2024-01-05T10:56:11.010057Z"
    },
    "papermill": {
     "duration": 0.009301,
     "end_time": "2024-01-05T10:56:11.012075",
     "exception": false,
     "start_time": "2024-01-05T10:56:11.002774",
     "status": "completed"
    },
    "tags": []
   },
   "outputs": [],
   "source": [
    "#q1.hint()\n",
    "#q1.solution()"
   ]
  },
  {
   "cell_type": "markdown",
   "id": "da9b6dd8",
   "metadata": {
    "papermill": {
     "duration": 0.003662,
     "end_time": "2024-01-05T10:56:11.019593",
     "exception": false,
     "start_time": "2024-01-05T10:56:11.015931",
     "status": "completed"
    },
    "tags": []
   },
   "source": [
    "## 2. \n",
    "Create a Series from entries in the `points` column, but convert the entries to strings. Hint: strings are `str` in native Python."
   ]
  },
  {
   "cell_type": "code",
   "execution_count": 4,
   "id": "785b7c52",
   "metadata": {
    "execution": {
     "iopub.execute_input": "2024-01-05T10:56:11.028529Z",
     "iopub.status.busy": "2024-01-05T10:56:11.028148Z",
     "iopub.status.idle": "2024-01-05T10:56:11.072633Z",
     "shell.execute_reply": "2024-01-05T10:56:11.071732Z"
    },
    "papermill": {
     "duration": 0.051548,
     "end_time": "2024-01-05T10:56:11.074987",
     "exception": false,
     "start_time": "2024-01-05T10:56:11.023439",
     "status": "completed"
    },
    "tags": []
   },
   "outputs": [
    {
     "data": {
      "application/javascript": [
       "parent.postMessage({\"jupyterEvent\": \"custom.exercise_interaction\", \"data\": {\"outcomeType\": 1, \"valueTowardsCompletion\": 0.25, \"interactionType\": 1, \"questionType\": 1, \"questionId\": \"2_StrPoints\", \"learnToolsVersion\": \"0.3.4\", \"failureMessage\": \"\", \"exceptionClass\": \"\", \"trace\": \"\"}}, \"*\")"
      ],
      "text/plain": [
       "<IPython.core.display.Javascript object>"
      ]
     },
     "metadata": {},
     "output_type": "display_data"
    },
    {
     "data": {
      "text/markdown": [
       "<span style=\"color:#33cc33\">Correct</span>"
      ],
      "text/plain": [
       "Correct"
      ]
     },
     "metadata": {},
     "output_type": "display_data"
    }
   ],
   "source": [
    "point_strings = reviews.points.astype(str)\n",
    "\n",
    "# Check your answer\n",
    "q2.check()"
   ]
  },
  {
   "cell_type": "code",
   "execution_count": 5,
   "id": "f291cea0",
   "metadata": {
    "execution": {
     "iopub.execute_input": "2024-01-05T10:56:11.084867Z",
     "iopub.status.busy": "2024-01-05T10:56:11.084607Z",
     "iopub.status.idle": "2024-01-05T10:56:11.088336Z",
     "shell.execute_reply": "2024-01-05T10:56:11.087422Z"
    },
    "papermill": {
     "duration": 0.010473,
     "end_time": "2024-01-05T10:56:11.090102",
     "exception": false,
     "start_time": "2024-01-05T10:56:11.079629",
     "status": "completed"
    },
    "tags": []
   },
   "outputs": [],
   "source": [
    "#q2.hint()\n",
    "#q2.solution()"
   ]
  },
  {
   "cell_type": "markdown",
   "id": "3749b15c",
   "metadata": {
    "papermill": {
     "duration": 0.004041,
     "end_time": "2024-01-05T10:56:11.098661",
     "exception": false,
     "start_time": "2024-01-05T10:56:11.094620",
     "status": "completed"
    },
    "tags": []
   },
   "source": [
    "## 3.\n",
    "Sometimes the price column is null. How many reviews in the dataset are missing a price?"
   ]
  },
  {
   "cell_type": "code",
   "execution_count": 6,
   "id": "e1ff66bc",
   "metadata": {
    "execution": {
     "iopub.execute_input": "2024-01-05T10:56:11.108539Z",
     "iopub.status.busy": "2024-01-05T10:56:11.108019Z",
     "iopub.status.idle": "2024-01-05T10:56:11.121348Z",
     "shell.execute_reply": "2024-01-05T10:56:11.120537Z"
    },
    "papermill": {
     "duration": 0.020309,
     "end_time": "2024-01-05T10:56:11.123114",
     "exception": false,
     "start_time": "2024-01-05T10:56:11.102805",
     "status": "completed"
    },
    "tags": []
   },
   "outputs": [
    {
     "data": {
      "application/javascript": [
       "parent.postMessage({\"jupyterEvent\": \"custom.exercise_interaction\", \"data\": {\"outcomeType\": 1, \"valueTowardsCompletion\": 0.25, \"interactionType\": 1, \"questionType\": 1, \"questionId\": \"3_CountMissingPrices\", \"learnToolsVersion\": \"0.3.4\", \"failureMessage\": \"\", \"exceptionClass\": \"\", \"trace\": \"\"}}, \"*\")"
      ],
      "text/plain": [
       "<IPython.core.display.Javascript object>"
      ]
     },
     "metadata": {},
     "output_type": "display_data"
    },
    {
     "data": {
      "text/markdown": [
       "<span style=\"color:#33cc33\">Correct</span>"
      ],
      "text/plain": [
       "Correct"
      ]
     },
     "metadata": {},
     "output_type": "display_data"
    }
   ],
   "source": [
    "missing_price_reviews = reviews[reviews.price.isnull()]\n",
    "n_missing_prices = len(missing_price_reviews)\n",
    "n_missing_prices = reviews.price.isnull().sum()\n",
    "n_missing_prices = pd.isnull(reviews.price).sum()\n",
    "\n",
    "# Check your answer\n",
    "q3.check()"
   ]
  },
  {
   "cell_type": "code",
   "execution_count": 7,
   "id": "8419bf34",
   "metadata": {
    "execution": {
     "iopub.execute_input": "2024-01-05T10:56:11.133237Z",
     "iopub.status.busy": "2024-01-05T10:56:11.132978Z",
     "iopub.status.idle": "2024-01-05T10:56:11.136607Z",
     "shell.execute_reply": "2024-01-05T10:56:11.135820Z"
    },
    "papermill": {
     "duration": 0.010698,
     "end_time": "2024-01-05T10:56:11.138302",
     "exception": false,
     "start_time": "2024-01-05T10:56:11.127604",
     "status": "completed"
    },
    "tags": []
   },
   "outputs": [],
   "source": [
    "#q3.hint()\n",
    "#q3.solution()"
   ]
  },
  {
   "cell_type": "markdown",
   "id": "30895757",
   "metadata": {
    "papermill": {
     "duration": 0.004128,
     "end_time": "2024-01-05T10:56:11.146807",
     "exception": false,
     "start_time": "2024-01-05T10:56:11.142679",
     "status": "completed"
    },
    "tags": []
   },
   "source": [
    "## 4.\n",
    "What are the most common wine-producing regions? Create a Series counting the number of times each value occurs in the `region_1` field. This field is often missing data, so replace missing values with `Unknown`. Sort in descending order.  Your output should look something like this:\n",
    "\n",
    "```\n",
    "Unknown                    21247\n",
    "Napa Valley                 4480\n",
    "                           ...  \n",
    "Bardolino Superiore            1\n",
    "Primitivo del Tarantino        1\n",
    "Name: region_1, Length: 1230, dtype: int64\n",
    "```"
   ]
  },
  {
   "cell_type": "code",
   "execution_count": 8,
   "id": "6555571c",
   "metadata": {
    "execution": {
     "iopub.execute_input": "2024-01-05T10:56:11.157163Z",
     "iopub.status.busy": "2024-01-05T10:56:11.156869Z",
     "iopub.status.idle": "2024-01-05T10:56:11.189382Z",
     "shell.execute_reply": "2024-01-05T10:56:11.188799Z"
    },
    "papermill": {
     "duration": 0.039439,
     "end_time": "2024-01-05T10:56:11.190908",
     "exception": false,
     "start_time": "2024-01-05T10:56:11.151469",
     "status": "completed"
    },
    "tags": []
   },
   "outputs": [
    {
     "data": {
      "application/javascript": [
       "parent.postMessage({\"jupyterEvent\": \"custom.exercise_interaction\", \"data\": {\"outcomeType\": 1, \"valueTowardsCompletion\": 0.25, \"interactionType\": 1, \"questionType\": 2, \"questionId\": \"4_ReviewsPerRegion\", \"learnToolsVersion\": \"0.3.4\", \"failureMessage\": \"\", \"exceptionClass\": \"\", \"trace\": \"\"}}, \"*\")"
      ],
      "text/plain": [
       "<IPython.core.display.Javascript object>"
      ]
     },
     "metadata": {},
     "output_type": "display_data"
    },
    {
     "data": {
      "text/markdown": [
       "<span style=\"color:#33cc33\">Correct</span>"
      ],
      "text/plain": [
       "Correct"
      ]
     },
     "metadata": {},
     "output_type": "display_data"
    }
   ],
   "source": [
    "reviews_per_region = reviews.region_1.fillna('Unknown').value_counts().sort_values(ascending=False)\n",
    "\n",
    "# Check your answer\n",
    "q4.check()"
   ]
  },
  {
   "cell_type": "code",
   "execution_count": 9,
   "id": "e518af6a",
   "metadata": {
    "execution": {
     "iopub.execute_input": "2024-01-05T10:56:11.201317Z",
     "iopub.status.busy": "2024-01-05T10:56:11.201064Z",
     "iopub.status.idle": "2024-01-05T10:56:11.204668Z",
     "shell.execute_reply": "2024-01-05T10:56:11.203871Z"
    },
    "papermill": {
     "duration": 0.010816,
     "end_time": "2024-01-05T10:56:11.206396",
     "exception": false,
     "start_time": "2024-01-05T10:56:11.195580",
     "status": "completed"
    },
    "tags": []
   },
   "outputs": [],
   "source": [
    "#q4.hint()\n",
    "#q4.solution()"
   ]
  },
  {
   "cell_type": "markdown",
   "id": "3a8f569b",
   "metadata": {
    "papermill": {
     "duration": 0.004274,
     "end_time": "2024-01-05T10:56:11.215249",
     "exception": false,
     "start_time": "2024-01-05T10:56:11.210975",
     "status": "completed"
    },
    "tags": []
   },
   "source": [
    "# Keep going\n",
    "\n",
    "Move on to **[renaming and combining](https://www.kaggle.com/residentmario/renaming-and-combining)**."
   ]
  },
  {
   "cell_type": "markdown",
   "id": "97c48970",
   "metadata": {
    "papermill": {
     "duration": 0.004428,
     "end_time": "2024-01-05T10:56:11.224183",
     "exception": false,
     "start_time": "2024-01-05T10:56:11.219755",
     "status": "completed"
    },
    "tags": []
   },
   "source": [
    "---\n",
    "\n",
    "\n",
    "\n",
    "\n",
    "*Have questions or comments? Visit the [course discussion forum](https://www.kaggle.com/learn/pandas/discussion) to chat with other learners.*"
   ]
  }
 ],
 "metadata": {
  "kaggle": {
   "accelerator": "none",
   "dataSources": [
    {
     "datasetId": 655,
     "sourceId": 1252,
     "sourceType": "datasetVersion"
    },
    {
     "datasetId": 2321,
     "sourceId": 3919,
     "sourceType": "datasetVersion"
    },
    {
     "datasetId": 2894,
     "sourceId": 4877,
     "sourceType": "datasetVersion"
    },
    {
     "datasetId": 3491,
     "sourceId": 5624,
     "sourceType": "datasetVersion"
    },
    {
     "datasetId": 1442,
     "sourceId": 8172,
     "sourceType": "datasetVersion"
    },
    {
     "datasetId": 9366,
     "sourceId": 13206,
     "sourceType": "datasetVersion"
    },
    {
     "datasetId": 179555,
     "sourceId": 403916,
     "sourceType": "datasetVersion"
    },
    {
     "datasetId": 4549,
     "sourceId": 466349,
     "sourceType": "datasetVersion"
    },
    {
     "datasetId": 2478,
     "sourceId": 1151655,
     "sourceType": "datasetVersion"
    },
    {
     "datasetId": 10128,
     "sourceId": 5438389,
     "sourceType": "datasetVersion"
    }
   ],
   "isGpuEnabled": false,
   "isInternetEnabled": false,
   "language": "python",
   "sourceType": "notebook"
  },
  "kernelspec": {
   "display_name": "Python 3",
   "language": "python",
   "name": "python3"
  },
  "language_info": {
   "codemirror_mode": {
    "name": "ipython",
    "version": 3
   },
   "file_extension": ".py",
   "mimetype": "text/x-python",
   "name": "python",
   "nbconvert_exporter": "python",
   "pygments_lexer": "ipython3",
   "version": "3.10.12"
  },
  "papermill": {
   "default_parameters": {},
   "duration": 5.43513,
   "end_time": "2024-01-05T10:56:11.646493",
   "environment_variables": {},
   "exception": null,
   "input_path": "__notebook__.ipynb",
   "output_path": "__notebook__.ipynb",
   "parameters": {},
   "start_time": "2024-01-05T10:56:06.211363",
   "version": "2.4.0"
  }
 },
 "nbformat": 4,
 "nbformat_minor": 5
}
