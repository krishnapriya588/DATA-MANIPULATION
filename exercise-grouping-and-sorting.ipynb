{
 "cells": [
  {
   "cell_type": "markdown",
   "id": "ae16159f",
   "metadata": {
    "papermill": {
     "duration": 0.00971,
     "end_time": "2024-01-05T10:54:37.449444",
     "exception": false,
     "start_time": "2024-01-05T10:54:37.439734",
     "status": "completed"
    },
    "tags": []
   },
   "source": [
    "**This notebook is an exercise in the [Pandas](https://www.kaggle.com/learn/pandas) course.  You can reference the tutorial at [this link](https://www.kaggle.com/residentmario/grouping-and-sorting).**\n",
    "\n",
    "---\n"
   ]
  },
  {
   "cell_type": "markdown",
   "id": "817e6950",
   "metadata": {
    "papermill": {
     "duration": 0.007831,
     "end_time": "2024-01-05T10:54:37.465555",
     "exception": false,
     "start_time": "2024-01-05T10:54:37.457724",
     "status": "completed"
    },
    "tags": []
   },
   "source": [
    "# Introduction\n",
    "\n",
    "In these exercises we'll apply groupwise analysis to our dataset.\n",
    "\n",
    "Run the code cell below to load the data before running the exercises."
   ]
  },
  {
   "cell_type": "code",
   "execution_count": 1,
   "id": "65e1d6c8",
   "metadata": {
    "execution": {
     "iopub.execute_input": "2024-01-05T10:54:37.484469Z",
     "iopub.status.busy": "2024-01-05T10:54:37.483773Z",
     "iopub.status.idle": "2024-01-05T10:54:41.354365Z",
     "shell.execute_reply": "2024-01-05T10:54:41.352900Z"
    },
    "papermill": {
     "duration": 3.883052,
     "end_time": "2024-01-05T10:54:41.357019",
     "exception": false,
     "start_time": "2024-01-05T10:54:37.473967",
     "status": "completed"
    },
    "tags": []
   },
   "outputs": [
    {
     "name": "stdout",
     "output_type": "stream",
     "text": [
      "Setup complete.\n"
     ]
    }
   ],
   "source": [
    "import pandas as pd\n",
    "\n",
    "reviews = pd.read_csv(\"../input/wine-reviews/winemag-data-130k-v2.csv\", index_col=0)\n",
    "#pd.set_option(\"display.max_rows\", 5)\n",
    "\n",
    "from learntools.core import binder; binder.bind(globals())\n",
    "from learntools.pandas.grouping_and_sorting import *\n",
    "print(\"Setup complete.\")"
   ]
  },
  {
   "cell_type": "markdown",
   "id": "3e14c494",
   "metadata": {
    "papermill": {
     "duration": 0.007831,
     "end_time": "2024-01-05T10:54:41.373135",
     "exception": false,
     "start_time": "2024-01-05T10:54:41.365304",
     "status": "completed"
    },
    "tags": []
   },
   "source": [
    "# Exercises"
   ]
  },
  {
   "cell_type": "markdown",
   "id": "9083d39b",
   "metadata": {
    "papermill": {
     "duration": 0.007769,
     "end_time": "2024-01-05T10:54:41.388930",
     "exception": false,
     "start_time": "2024-01-05T10:54:41.381161",
     "status": "completed"
    },
    "tags": []
   },
   "source": [
    "## 1.\n",
    "Who are the most common wine reviewers in the dataset? Create a `Series` whose index is the `taster_twitter_handle` category from the dataset, and whose values count how many reviews each person wrote."
   ]
  },
  {
   "cell_type": "code",
   "execution_count": 2,
   "id": "1b429c27",
   "metadata": {
    "execution": {
     "iopub.execute_input": "2024-01-05T10:54:41.407054Z",
     "iopub.status.busy": "2024-01-05T10:54:41.406669Z",
     "iopub.status.idle": "2024-01-05T10:54:41.444693Z",
     "shell.execute_reply": "2024-01-05T10:54:41.443340Z"
    },
    "papermill": {
     "duration": 0.050101,
     "end_time": "2024-01-05T10:54:41.447170",
     "exception": false,
     "start_time": "2024-01-05T10:54:41.397069",
     "status": "completed"
    },
    "tags": []
   },
   "outputs": [
    {
     "data": {
      "application/javascript": [
       "parent.postMessage({\"jupyterEvent\": \"custom.exercise_interaction\", \"data\": {\"outcomeType\": 1, \"valueTowardsCompletion\": 0.16666666666666666, \"interactionType\": 1, \"questionType\": 1, \"questionId\": \"1_ReviewsWritten\", \"learnToolsVersion\": \"0.3.4\", \"failureMessage\": \"\", \"exceptionClass\": \"\", \"trace\": \"\"}}, \"*\")"
      ],
      "text/plain": [
       "<IPython.core.display.Javascript object>"
      ]
     },
     "metadata": {},
     "output_type": "display_data"
    },
    {
     "data": {
      "text/markdown": [
       "<span style=\"color:#33cc33\">Correct:</span> \n",
       "\n",
       "\n",
       "```python\n",
       "reviews_written = reviews.groupby('taster_twitter_handle').size()\n",
       "```\n",
       "or\n",
       "```python\n",
       "reviews_written = reviews.groupby('taster_twitter_handle').taster_twitter_handle.count()\n",
       "```\n"
      ],
      "text/plain": [
       "Correct: \n",
       "\n",
       "\n",
       "```python\n",
       "reviews_written = reviews.groupby('taster_twitter_handle').size()\n",
       "```\n",
       "or\n",
       "```python\n",
       "reviews_written = reviews.groupby('taster_twitter_handle').taster_twitter_handle.count()\n",
       "```"
      ]
     },
     "metadata": {},
     "output_type": "display_data"
    }
   ],
   "source": [
    "# Your code here\n",
    "reviews_written = reviews.groupby('taster_twitter_handle').size()\n",
    "\n",
    "# Check your answer\n",
    "q1.check()"
   ]
  },
  {
   "cell_type": "code",
   "execution_count": 3,
   "id": "4815b2a1",
   "metadata": {
    "execution": {
     "iopub.execute_input": "2024-01-05T10:54:41.465919Z",
     "iopub.status.busy": "2024-01-05T10:54:41.465544Z",
     "iopub.status.idle": "2024-01-05T10:54:41.470602Z",
     "shell.execute_reply": "2024-01-05T10:54:41.469336Z"
    },
    "papermill": {
     "duration": 0.017049,
     "end_time": "2024-01-05T10:54:41.472776",
     "exception": false,
     "start_time": "2024-01-05T10:54:41.455727",
     "status": "completed"
    },
    "tags": []
   },
   "outputs": [],
   "source": [
    "#q1.hint()\n",
    "#q1.solution()"
   ]
  },
  {
   "cell_type": "markdown",
   "id": "7d68e5e6",
   "metadata": {
    "papermill": {
     "duration": 0.008192,
     "end_time": "2024-01-05T10:54:41.489902",
     "exception": false,
     "start_time": "2024-01-05T10:54:41.481710",
     "status": "completed"
    },
    "tags": []
   },
   "source": [
    "## 2.\n",
    "What is the best wine I can buy for a given amount of money? Create a `Series` whose index is wine prices and whose values is the maximum number of points a wine costing that much was given in a review. Sort the values by price, ascending (so that `4.0` dollars is at the top and `3300.0` dollars is at the bottom)."
   ]
  },
  {
   "cell_type": "code",
   "execution_count": 4,
   "id": "a24a64d4",
   "metadata": {
    "execution": {
     "iopub.execute_input": "2024-01-05T10:54:41.508790Z",
     "iopub.status.busy": "2024-01-05T10:54:41.508380Z",
     "iopub.status.idle": "2024-01-05T10:54:41.523631Z",
     "shell.execute_reply": "2024-01-05T10:54:41.522313Z"
    },
    "papermill": {
     "duration": 0.02782,
     "end_time": "2024-01-05T10:54:41.526004",
     "exception": false,
     "start_time": "2024-01-05T10:54:41.498184",
     "status": "completed"
    },
    "tags": []
   },
   "outputs": [
    {
     "data": {
      "application/javascript": [
       "parent.postMessage({\"jupyterEvent\": \"custom.exercise_interaction\", \"data\": {\"outcomeType\": 1, \"valueTowardsCompletion\": 0.16666666666666666, \"interactionType\": 1, \"questionType\": 1, \"questionId\": \"2_BestRatingPerPrice\", \"learnToolsVersion\": \"0.3.4\", \"failureMessage\": \"\", \"exceptionClass\": \"\", \"trace\": \"\"}}, \"*\")"
      ],
      "text/plain": [
       "<IPython.core.display.Javascript object>"
      ]
     },
     "metadata": {},
     "output_type": "display_data"
    },
    {
     "data": {
      "text/markdown": [
       "<span style=\"color:#33cc33\">Correct</span>"
      ],
      "text/plain": [
       "Correct"
      ]
     },
     "metadata": {},
     "output_type": "display_data"
    }
   ],
   "source": [
    "best_rating_per_price = reviews.groupby('price')['points'].max().sort_index()\n",
    "\n",
    "# Check your answer\n",
    "q2.check()"
   ]
  },
  {
   "cell_type": "code",
   "execution_count": 5,
   "id": "f23b3426",
   "metadata": {
    "execution": {
     "iopub.execute_input": "2024-01-05T10:54:41.545903Z",
     "iopub.status.busy": "2024-01-05T10:54:41.545434Z",
     "iopub.status.idle": "2024-01-05T10:54:41.550274Z",
     "shell.execute_reply": "2024-01-05T10:54:41.549239Z"
    },
    "papermill": {
     "duration": 0.017973,
     "end_time": "2024-01-05T10:54:41.552853",
     "exception": false,
     "start_time": "2024-01-05T10:54:41.534880",
     "status": "completed"
    },
    "tags": []
   },
   "outputs": [],
   "source": [
    "#q2.hint()\n",
    "#q2.solution()"
   ]
  },
  {
   "cell_type": "markdown",
   "id": "9ba0ee6e",
   "metadata": {
    "papermill": {
     "duration": 0.008373,
     "end_time": "2024-01-05T10:54:41.570121",
     "exception": false,
     "start_time": "2024-01-05T10:54:41.561748",
     "status": "completed"
    },
    "tags": []
   },
   "source": [
    "## 3.\n",
    "What are the minimum and maximum prices for each `variety` of wine? Create a `DataFrame` whose index is the `variety` category from the dataset and whose values are the `min` and `max` values thereof."
   ]
  },
  {
   "cell_type": "code",
   "execution_count": 6,
   "id": "d48c01a2",
   "metadata": {
    "execution": {
     "iopub.execute_input": "2024-01-05T10:54:41.590160Z",
     "iopub.status.busy": "2024-01-05T10:54:41.589724Z",
     "iopub.status.idle": "2024-01-05T10:54:41.633725Z",
     "shell.execute_reply": "2024-01-05T10:54:41.632489Z"
    },
    "papermill": {
     "duration": 0.057159,
     "end_time": "2024-01-05T10:54:41.636071",
     "exception": false,
     "start_time": "2024-01-05T10:54:41.578912",
     "status": "completed"
    },
    "tags": []
   },
   "outputs": [
    {
     "data": {
      "application/javascript": [
       "parent.postMessage({\"jupyterEvent\": \"custom.exercise_interaction\", \"data\": {\"outcomeType\": 1, \"valueTowardsCompletion\": 0.16666666666666666, \"interactionType\": 1, \"questionType\": 1, \"questionId\": \"3_PriceExtremes\", \"learnToolsVersion\": \"0.3.4\", \"failureMessage\": \"\", \"exceptionClass\": \"\", \"trace\": \"\"}}, \"*\")"
      ],
      "text/plain": [
       "<IPython.core.display.Javascript object>"
      ]
     },
     "metadata": {},
     "output_type": "display_data"
    },
    {
     "data": {
      "text/markdown": [
       "<span style=\"color:#33cc33\">Correct</span>"
      ],
      "text/plain": [
       "Correct"
      ]
     },
     "metadata": {},
     "output_type": "display_data"
    }
   ],
   "source": [
    "price_extremes = reviews.groupby('variety').price.agg([min, max])\n",
    "\n",
    "# Check your answer\n",
    "q3.check()"
   ]
  },
  {
   "cell_type": "code",
   "execution_count": 7,
   "id": "f756e499",
   "metadata": {
    "execution": {
     "iopub.execute_input": "2024-01-05T10:54:41.656058Z",
     "iopub.status.busy": "2024-01-05T10:54:41.655655Z",
     "iopub.status.idle": "2024-01-05T10:54:41.660437Z",
     "shell.execute_reply": "2024-01-05T10:54:41.659331Z"
    },
    "papermill": {
     "duration": 0.017772,
     "end_time": "2024-01-05T10:54:41.662786",
     "exception": false,
     "start_time": "2024-01-05T10:54:41.645014",
     "status": "completed"
    },
    "tags": []
   },
   "outputs": [],
   "source": [
    "#q3.hint()\n",
    "#q3.solution()"
   ]
  },
  {
   "cell_type": "markdown",
   "id": "8fa3cf19",
   "metadata": {
    "papermill": {
     "duration": 0.008949,
     "end_time": "2024-01-05T10:54:41.680764",
     "exception": false,
     "start_time": "2024-01-05T10:54:41.671815",
     "status": "completed"
    },
    "tags": []
   },
   "source": [
    "## 4.\n",
    "What are the most expensive wine varieties? Create a variable `sorted_varieties` containing a copy of the dataframe from the previous question where varieties are sorted in descending order based on minimum price, then on maximum price (to break ties)."
   ]
  },
  {
   "cell_type": "code",
   "execution_count": 8,
   "id": "e0ea4c7c",
   "metadata": {
    "execution": {
     "iopub.execute_input": "2024-01-05T10:54:41.701114Z",
     "iopub.status.busy": "2024-01-05T10:54:41.700691Z",
     "iopub.status.idle": "2024-01-05T10:54:41.712668Z",
     "shell.execute_reply": "2024-01-05T10:54:41.711806Z"
    },
    "papermill": {
     "duration": 0.025084,
     "end_time": "2024-01-05T10:54:41.714895",
     "exception": false,
     "start_time": "2024-01-05T10:54:41.689811",
     "status": "completed"
    },
    "tags": []
   },
   "outputs": [
    {
     "data": {
      "application/javascript": [
       "parent.postMessage({\"jupyterEvent\": \"custom.exercise_interaction\", \"data\": {\"outcomeType\": 1, \"valueTowardsCompletion\": 0.16666666666666666, \"interactionType\": 1, \"questionType\": 1, \"questionId\": \"4_SortedVarieties\", \"learnToolsVersion\": \"0.3.4\", \"failureMessage\": \"\", \"exceptionClass\": \"\", \"trace\": \"\"}}, \"*\")"
      ],
      "text/plain": [
       "<IPython.core.display.Javascript object>"
      ]
     },
     "metadata": {},
     "output_type": "display_data"
    },
    {
     "data": {
      "text/markdown": [
       "<span style=\"color:#33cc33\">Correct</span>"
      ],
      "text/plain": [
       "Correct"
      ]
     },
     "metadata": {},
     "output_type": "display_data"
    }
   ],
   "source": [
    "sorted_varieties = price_extremes.sort_values(by=['min', 'max'], ascending=False)\n",
    "\n",
    "# Check your answer\n",
    "q4.check()"
   ]
  },
  {
   "cell_type": "code",
   "execution_count": 9,
   "id": "fd6a9ce3",
   "metadata": {
    "execution": {
     "iopub.execute_input": "2024-01-05T10:54:41.736118Z",
     "iopub.status.busy": "2024-01-05T10:54:41.735760Z",
     "iopub.status.idle": "2024-01-05T10:54:41.740708Z",
     "shell.execute_reply": "2024-01-05T10:54:41.739546Z"
    },
    "papermill": {
     "duration": 0.018377,
     "end_time": "2024-01-05T10:54:41.743130",
     "exception": false,
     "start_time": "2024-01-05T10:54:41.724753",
     "status": "completed"
    },
    "tags": []
   },
   "outputs": [],
   "source": [
    "#q4.hint()\n",
    "#q4.solution()"
   ]
  },
  {
   "cell_type": "markdown",
   "id": "5d6a2c79",
   "metadata": {
    "papermill": {
     "duration": 0.009495,
     "end_time": "2024-01-05T10:54:41.762688",
     "exception": false,
     "start_time": "2024-01-05T10:54:41.753193",
     "status": "completed"
    },
    "tags": []
   },
   "source": [
    "## 5.\n",
    "Create a `Series` whose index is reviewers and whose values is the average review score given out by that reviewer. Hint: you will need the `taster_name` and `points` columns."
   ]
  },
  {
   "cell_type": "code",
   "execution_count": 10,
   "id": "c62552cd",
   "metadata": {
    "execution": {
     "iopub.execute_input": "2024-01-05T10:54:41.785679Z",
     "iopub.status.busy": "2024-01-05T10:54:41.785220Z",
     "iopub.status.idle": "2024-01-05T10:54:41.821818Z",
     "shell.execute_reply": "2024-01-05T10:54:41.820576Z"
    },
    "papermill": {
     "duration": 0.050364,
     "end_time": "2024-01-05T10:54:41.824081",
     "exception": false,
     "start_time": "2024-01-05T10:54:41.773717",
     "status": "completed"
    },
    "tags": []
   },
   "outputs": [
    {
     "data": {
      "application/javascript": [
       "parent.postMessage({\"jupyterEvent\": \"custom.exercise_interaction\", \"data\": {\"outcomeType\": 1, \"valueTowardsCompletion\": 0.16666666666666666, \"interactionType\": 1, \"questionType\": 1, \"questionId\": \"5_ReviewerMeanRatings\", \"learnToolsVersion\": \"0.3.4\", \"failureMessage\": \"\", \"exceptionClass\": \"\", \"trace\": \"\"}}, \"*\")"
      ],
      "text/plain": [
       "<IPython.core.display.Javascript object>"
      ]
     },
     "metadata": {},
     "output_type": "display_data"
    },
    {
     "data": {
      "text/markdown": [
       "<span style=\"color:#33cc33\">Correct</span>"
      ],
      "text/plain": [
       "Correct"
      ]
     },
     "metadata": {},
     "output_type": "display_data"
    }
   ],
   "source": [
    "reviewer_mean_ratings = reviews.groupby('taster_name').points.mean()\n",
    "\n",
    "# Check your answer\n",
    "q5.check()"
   ]
  },
  {
   "cell_type": "code",
   "execution_count": 11,
   "id": "3b810642",
   "metadata": {
    "execution": {
     "iopub.execute_input": "2024-01-05T10:54:41.846128Z",
     "iopub.status.busy": "2024-01-05T10:54:41.845762Z",
     "iopub.status.idle": "2024-01-05T10:54:41.851093Z",
     "shell.execute_reply": "2024-01-05T10:54:41.850250Z"
    },
    "papermill": {
     "duration": 0.018943,
     "end_time": "2024-01-05T10:54:41.853367",
     "exception": false,
     "start_time": "2024-01-05T10:54:41.834424",
     "status": "completed"
    },
    "tags": []
   },
   "outputs": [],
   "source": [
    "#q5.hint()\n",
    "#q5.solution()"
   ]
  },
  {
   "cell_type": "markdown",
   "id": "9d7a771f",
   "metadata": {
    "papermill": {
     "duration": 0.00976,
     "end_time": "2024-01-05T10:54:41.873473",
     "exception": false,
     "start_time": "2024-01-05T10:54:41.863713",
     "status": "completed"
    },
    "tags": []
   },
   "source": [
    "Are there significant differences in the average scores assigned by the various reviewers? Run the cell below to use the `describe()` method to see a summary of the range of values."
   ]
  },
  {
   "cell_type": "code",
   "execution_count": 12,
   "id": "998e1413",
   "metadata": {
    "execution": {
     "iopub.execute_input": "2024-01-05T10:54:41.894786Z",
     "iopub.status.busy": "2024-01-05T10:54:41.894388Z",
     "iopub.status.idle": "2024-01-05T10:54:41.908910Z",
     "shell.execute_reply": "2024-01-05T10:54:41.907837Z"
    },
    "papermill": {
     "duration": 0.028317,
     "end_time": "2024-01-05T10:54:41.911232",
     "exception": false,
     "start_time": "2024-01-05T10:54:41.882915",
     "status": "completed"
    },
    "tags": []
   },
   "outputs": [
    {
     "data": {
      "text/plain": [
       "count    19.000000\n",
       "mean     88.233026\n",
       "std       1.243610\n",
       "min      85.855422\n",
       "25%      87.323501\n",
       "50%      88.536235\n",
       "75%      88.975256\n",
       "max      90.562551\n",
       "Name: points, dtype: float64"
      ]
     },
     "execution_count": 12,
     "metadata": {},
     "output_type": "execute_result"
    }
   ],
   "source": [
    "reviewer_mean_ratings.describe()"
   ]
  },
  {
   "cell_type": "markdown",
   "id": "10551c36",
   "metadata": {
    "papermill": {
     "duration": 0.009722,
     "end_time": "2024-01-05T10:54:41.931335",
     "exception": false,
     "start_time": "2024-01-05T10:54:41.921613",
     "status": "completed"
    },
    "tags": []
   },
   "source": [
    "## 6.\n",
    "What combination of countries and varieties are most common? Create a `Series` whose index is a `MultiIndex`of `{country, variety}` pairs. For example, a pinot noir produced in the US should map to `{\"US\", \"Pinot Noir\"}`. Sort the values in the `Series` in descending order based on wine count."
   ]
  },
  {
   "cell_type": "code",
   "execution_count": 13,
   "id": "29486d54",
   "metadata": {
    "execution": {
     "iopub.execute_input": "2024-01-05T10:54:41.952808Z",
     "iopub.status.busy": "2024-01-05T10:54:41.952416Z",
     "iopub.status.idle": "2024-01-05T10:54:42.024927Z",
     "shell.execute_reply": "2024-01-05T10:54:42.023907Z"
    },
    "papermill": {
     "duration": 0.086687,
     "end_time": "2024-01-05T10:54:42.027826",
     "exception": false,
     "start_time": "2024-01-05T10:54:41.941139",
     "status": "completed"
    },
    "tags": []
   },
   "outputs": [
    {
     "data": {
      "application/javascript": [
       "parent.postMessage({\"jupyterEvent\": \"custom.exercise_interaction\", \"data\": {\"outcomeType\": 1, \"valueTowardsCompletion\": 0.16666666666666666, \"interactionType\": 1, \"questionType\": 1, \"questionId\": \"6_GroupbyCountryVariety\", \"learnToolsVersion\": \"0.3.4\", \"failureMessage\": \"\", \"exceptionClass\": \"\", \"trace\": \"\"}}, \"*\")"
      ],
      "text/plain": [
       "<IPython.core.display.Javascript object>"
      ]
     },
     "metadata": {},
     "output_type": "display_data"
    },
    {
     "data": {
      "text/markdown": [
       "<span style=\"color:#33cc33\">Correct</span>"
      ],
      "text/plain": [
       "Correct"
      ]
     },
     "metadata": {},
     "output_type": "display_data"
    }
   ],
   "source": [
    "country_variety_counts = reviews.groupby(['country', 'variety']).size().sort_values(ascending=False)\n",
    "\n",
    "# Check your answer\n",
    "q6.check()"
   ]
  },
  {
   "cell_type": "code",
   "execution_count": 14,
   "id": "3a063f6b",
   "metadata": {
    "execution": {
     "iopub.execute_input": "2024-01-05T10:54:42.050300Z",
     "iopub.status.busy": "2024-01-05T10:54:42.049876Z",
     "iopub.status.idle": "2024-01-05T10:54:42.054885Z",
     "shell.execute_reply": "2024-01-05T10:54:42.053623Z"
    },
    "papermill": {
     "duration": 0.018916,
     "end_time": "2024-01-05T10:54:42.057130",
     "exception": false,
     "start_time": "2024-01-05T10:54:42.038214",
     "status": "completed"
    },
    "tags": []
   },
   "outputs": [],
   "source": [
    "#q6.hint()\n",
    "#q6.solution()"
   ]
  },
  {
   "cell_type": "markdown",
   "id": "fd30d872",
   "metadata": {
    "papermill": {
     "duration": 0.009969,
     "end_time": "2024-01-05T10:54:42.077361",
     "exception": false,
     "start_time": "2024-01-05T10:54:42.067392",
     "status": "completed"
    },
    "tags": []
   },
   "source": [
    "# Keep going\n",
    "\n",
    "Move on to the [**data types and missing data**](https://www.kaggle.com/residentmario/data-types-and-missing-values)."
   ]
  },
  {
   "cell_type": "markdown",
   "id": "93b6229e",
   "metadata": {
    "papermill": {
     "duration": 0.009887,
     "end_time": "2024-01-05T10:54:42.097548",
     "exception": false,
     "start_time": "2024-01-05T10:54:42.087661",
     "status": "completed"
    },
    "tags": []
   },
   "source": [
    "---\n",
    "\n",
    "\n",
    "\n",
    "\n",
    "*Have questions or comments? Visit the [course discussion forum](https://www.kaggle.com/learn/pandas/discussion) to chat with other learners.*"
   ]
  }
 ],
 "metadata": {
  "kaggle": {
   "accelerator": "none",
   "dataSources": [
    {
     "datasetId": 655,
     "sourceId": 1252,
     "sourceType": "datasetVersion"
    },
    {
     "datasetId": 2321,
     "sourceId": 3919,
     "sourceType": "datasetVersion"
    },
    {
     "datasetId": 2894,
     "sourceId": 4877,
     "sourceType": "datasetVersion"
    },
    {
     "datasetId": 3491,
     "sourceId": 5624,
     "sourceType": "datasetVersion"
    },
    {
     "datasetId": 1442,
     "sourceId": 8172,
     "sourceType": "datasetVersion"
    },
    {
     "datasetId": 9366,
     "sourceId": 13206,
     "sourceType": "datasetVersion"
    },
    {
     "datasetId": 179555,
     "sourceId": 403916,
     "sourceType": "datasetVersion"
    },
    {
     "datasetId": 4549,
     "sourceId": 466349,
     "sourceType": "datasetVersion"
    },
    {
     "datasetId": 2478,
     "sourceId": 1151655,
     "sourceType": "datasetVersion"
    },
    {
     "datasetId": 10128,
     "sourceId": 5438389,
     "sourceType": "datasetVersion"
    }
   ],
   "isGpuEnabled": false,
   "isInternetEnabled": false,
   "language": "python",
   "sourceType": "notebook"
  },
  "kernelspec": {
   "display_name": "Python 3",
   "language": "python",
   "name": "python3"
  },
  "language_info": {
   "codemirror_mode": {
    "name": "ipython",
    "version": 3
   },
   "file_extension": ".py",
   "mimetype": "text/x-python",
   "name": "python",
   "nbconvert_exporter": "python",
   "pygments_lexer": "ipython3",
   "version": "3.10.12"
  },
  "papermill": {
   "default_parameters": {},
   "duration": 8.532134,
   "end_time": "2024-01-05T10:54:42.628430",
   "environment_variables": {},
   "exception": null,
   "input_path": "__notebook__.ipynb",
   "output_path": "__notebook__.ipynb",
   "parameters": {},
   "start_time": "2024-01-05T10:54:34.096296",
   "version": "2.4.0"
  }
 },
 "nbformat": 4,
 "nbformat_minor": 5
}
